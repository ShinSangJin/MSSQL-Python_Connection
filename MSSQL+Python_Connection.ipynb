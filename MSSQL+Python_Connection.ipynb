{
 "cells": [
  {
   "cell_type": "markdown",
   "metadata": {},
   "source": [
    "# MSSQL Data를 Python으로 불러오기"
   ]
  },
  {
   "cell_type": "code",
   "execution_count": null,
   "metadata": {},
   "outputs": [],
   "source": [
    "import pymssql\n",
    "\n",
    "conn = pymssql.connect(server='***.***.***.***', # DB IP\n",
    "                       user='*****', # 계정\n",
    "                       password='*****', # 비밀번호\n",
    "                       database='*****', # DB명\n",
    "                       port='****') # 포트명\n",
    "cursor = conn.cursor()\n",
    "\n",
    "cursor.execute('select * from *****') # 쿼리\n",
    "\n",
    "row = cursor.fetchone()\n",
    "while row:\n",
    "    print('%s, %s, %s, %s, %s, %s, %s, %s, %s'\n",
    "          % (row[0], row[1], row[2], row[3], row[4], row[5], row[6], row[7], row[8]))\n",
    "    row = cursor.fetchone()\n",
    "conn.close()"
   ]
  },
  {
   "cell_type": "markdown",
   "metadata": {},
   "source": [
    "# 다음과 같은 코드도 가능하다."
   ]
  },
  {
   "cell_type": "code",
   "execution_count": null,
   "metadata": {},
   "outputs": [],
   "source": [
    "import pymssql\n",
    "\n",
    "conn = pymssql.connect(server='***.***.***.***', # DB IP\n",
    "                       user='*****', # 계정\n",
    "                       password='*****', # 비밀번호\n",
    "                       database='*****', # DB명\n",
    "                       port='****') # 포트명\n",
    "cursor = conn.cursor()\n",
    "\n",
    "cursor.execute('select * from *****') # 쿼리\n",
    "\n",
    "row = cursor.fetchone()\n",
    "while row:\n",
    "    print(str(row[0]) +\",\"+ str(row[1]) +\",\"+ str(row[2]) +\",\"+ str(row[3]) +\",\"+ str(row[4])\n",
    "          +\",\"+ str(row[5]) +\",\"+ str(row[6]) +\",\"+ str(row[7]) +\",\"+ str(row[8]))\n",
    "    row = cursor.fetchone()\n",
    "\n",
    "conn.close()"
   ]
  }
 ],
 "metadata": {
  "kernelspec": {
   "display_name": "Python 3",
   "language": "python",
   "name": "python3"
  },
  "language_info": {
   "codemirror_mode": {
    "name": "ipython",
    "version": 3
   },
   "file_extension": ".py",
   "mimetype": "text/x-python",
   "name": "python",
   "nbconvert_exporter": "python",
   "pygments_lexer": "ipython3",
   "version": "3.7.4"
  }
 },
 "nbformat": 4,
 "nbformat_minor": 2
}
